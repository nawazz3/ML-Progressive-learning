{
  "nbformat": 4,
  "nbformat_minor": 0,
  "metadata": {
    "colab": {
      "provenance": [],
      "authorship_tag": "ABX9TyOI95VDMQrAs1zi3IP6YZAY",
      "include_colab_link": true
    },
    "kernelspec": {
      "name": "python3",
      "display_name": "Python 3"
    },
    "language_info": {
      "name": "python"
    }
  },
  "cells": [
    {
      "cell_type": "markdown",
      "metadata": {
        "id": "view-in-github",
        "colab_type": "text"
      },
      "source": [
        "<a href=\"https://colab.research.google.com/github/nawazz3/ML-Progressive-learning/blob/main/Basics_of_Neural_Network.ipynb\" target=\"_parent\"><img src=\"https://colab.research.google.com/assets/colab-badge.svg\" alt=\"Open In Colab\"/></a>"
      ]
    },
    {
      "cell_type": "code",
      "execution_count": null,
      "metadata": {
        "colab": {
          "base_uri": "https://localhost:8080/"
        },
        "id": "VMpZwfvuR_P6",
        "outputId": "92ce4453-58d3-4083-d043-6e4cf7347740"
      },
      "outputs": [
        {
          "output_type": "stream",
          "name": "stdout",
          "text": [
            "{2.6000000000000005}\n"
          ]
        }
      ],
      "source": [
        "#Neuron Implementation from Scratch\n",
        "input=[1,3,4]\n",
        "weights=[0.2,0.8,-0.5]\n",
        "bias=2\n",
        "outputs={input[0]*weights[0]+input[1]*weights[1]+input[2]*weights[2]+bias}\n",
        "print(outputs)"
      ]
    },
    {
      "cell_type": "code",
      "source": [
        "input=[1,3,4,6]\n",
        "weights=[0.2,0.8,-0.5,-0.3]\n",
        "bias=2\n",
        "outputs={input[0]*weights[0]+input[1]*weights[1]+input[2]*weights[2]+input[3]*weights[3]+bias}\n",
        "print(outputs)\n",
        "\n",
        "\n",
        "# Sample representation of a neuron with 4 inputs and 1 output"
      ],
      "metadata": {
        "colab": {
          "base_uri": "https://localhost:8080/"
        },
        "id": "jjheXKQvSk7V",
        "outputId": "41088108-50eb-4731-b4b1-f457999cba28"
      },
      "execution_count": null,
      "outputs": [
        {
          "output_type": "stream",
          "name": "stdout",
          "text": [
            "{0.8000000000000007}\n"
          ]
        }
      ]
    },
    {
      "cell_type": "code",
      "source": [
        "# Layer of neurons\n",
        "inputs=[1,3,7.5]\n",
        "weights =[[0.4,0.55,-0.2],\n",
        "          [0.8,-0.4,0.66],\n",
        "          [-0.27,0.4,0.34]]\n",
        "bias = [2,3,0.5]\n",
        "\n",
        "outputs={\n",
        "    inputs[0]*weights[0][0]+inputs[1]*weights[1][0]+inputs[2]*weights[2][0]+bias[0],\n",
        "    inputs[0]*weights[0][1]+inputs[1]*weights[1][1]+inputs[2]*weights[2][1]+bias[1],\n",
        "    inputs[0]*weights[0][2]+inputs[1]*weights[1][2]+inputs[2]*weights[2][2]+bias[2]\n",
        "}\n",
        "\n",
        "print(outputs)\n",
        "# we get three ouputs as we have three neurons\n",
        "# We use loops for more Neurons which is easier than this"
      ],
      "metadata": {
        "id": "wDJ7mD9BSu1G",
        "colab": {
          "base_uri": "https://localhost:8080/"
        },
        "outputId": "1b87da97-cd63-4a4f-f67e-df647580f3cb"
      },
      "execution_count": null,
      "outputs": [
        {
          "output_type": "stream",
          "name": "stdout",
          "text": [
            "{2.775, 4.83, 5.35}\n"
          ]
        }
      ]
    },
    {
      "cell_type": "markdown",
      "source": [
        "The zip() function in Python combines multiple iterables (like lists or tuples) element by element, creating tuples of corresponding items.\n",
        "\n",
        "How zip() Works\n",
        "It takes two or more iterables (e.g., lists).\n",
        "It pairs elements from each iterable based on their position.\n",
        "It stops when the shortest iterable runs out of elements."
      ],
      "metadata": {
        "id": "ho-HGs0Dgm6I"
      }
    },
    {
      "cell_type": "code",
      "source": [
        "#Layer of Neurons with loops(More multiplication)\n",
        "inputs=[1,3,7.5]\n",
        "weights =[[0.4,0.55,-0.2],\n",
        "          [0.8,-0.4,0.66],\n",
        "          [-0.27,0.4,0.34]]\n",
        "bias = [2,3,0.5]\n",
        "# Output of layer\n",
        "Layer_outputs=[]\n",
        "for neuron_weights,neuron_bias in zip(weights,bias):\n",
        "    neuron_output=0\n",
        "    for n_input,weight in zip(inputs,neuron_weights):\n",
        "        neuron_output+=n_input*weight\n",
        "    neuron_output+=neuron_bias\n",
        "    Layer_outputs.append(neuron_output)\n",
        "print(Layer_outputs)"
      ],
      "metadata": {
        "colab": {
          "base_uri": "https://localhost:8080/"
        },
        "id": "LeZY5S4Kgd37",
        "outputId": "c2029327-ee00-44b9-8c21-62c98a7e1a3e"
      },
      "execution_count": null,
      "outputs": [
        {
          "output_type": "stream",
          "name": "stdout",
          "text": [
            "[2.5500000000000003, 7.55, 3.9800000000000004]\n"
          ]
        }
      ]
    },
    {
      "cell_type": "code",
      "source": [],
      "metadata": {
        "id": "ektCDGsKhhZc"
      },
      "execution_count": null,
      "outputs": []
    }
  ]
}